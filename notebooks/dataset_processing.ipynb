{
  "nbformat": 4,
  "nbformat_minor": 0,
  "metadata": {
    "colab": {
      "name": "dataset_processing.ipynb",
      "provenance": [],
      "collapsed_sections": [],
      "toc_visible": true
    },
    "kernelspec": {
      "display_name": "Python 3",
      "language": "python",
      "name": "python3"
    },
    "language_info": {
      "codemirror_mode": {
        "name": "ipython",
        "version": 3
      },
      "file_extension": ".py",
      "mimetype": "text/x-python",
      "name": "python",
      "nbconvert_exporter": "python",
      "pygments_lexer": "ipython3",
      "version": "3.7.3"
    }
  },
  "cells": [
    {
      "cell_type": "markdown",
      "metadata": {
        "colab_type": "text",
        "id": "DMDbX3sbsRie"
      },
      "source": [
        "# Semeval Dataset Processing\n",
        "\n",
        "This notebook takes care of the preprocessing of the tweets of the Semeval task for the division in Train/Test/Validation."
      ]
    },
    {
      "cell_type": "markdown",
      "metadata": {
        "id": "INtMMG-tw4Ei",
        "colab_type": "text"
      },
      "source": [
        "## Corpus Download"
      ]
    },
    {
      "cell_type": "code",
      "metadata": {
        "colab_type": "code",
        "id": "DEfDdTJtr7H5",
        "outputId": "911bd767-eae8-4005-f80f-e39f1a604c24",
        "colab": {
          "base_uri": "https://localhost:8080/",
          "height": 121
        }
      },
      "source": [
        "%%bash\n",
        "\n",
        "rm -rf data/\n",
        "\n",
        "curl -LO https://cs.famaf.unc.edu.ar/~ccardellino/resources/semeval/semeval-2016-task-6.tar.gz\n",
        "tar xvf semeval-2016-task-6.tar.gz\n",
        "\n",
        "mv StanceDataset/ data/\n",
        "rm -f semeval-2016-task-6.tar.gz"
      ],
      "execution_count": 0,
      "outputs": [
        {
          "output_type": "stream",
          "text": [
            "StanceDataset/\n",
            "StanceDataset/train.csv\n",
            "StanceDataset/test.csv\n"
          ],
          "name": "stdout"
        },
        {
          "output_type": "stream",
          "text": [
            "  % Total    % Received % Xferd  Average Speed   Time    Time     Time  Current\n",
            "                                 Dload  Upload   Total   Spent    Left  Speed\n",
            "\r  0     0    0     0    0     0      0      0 --:--:-- --:--:-- --:--:--     0\r  0     0    0     0    0     0      0      0 --:--:--  0:00:01 --:--:--     0\r  0     0    0     0    0     0      0      0 --:--:--  0:00:02 --:--:--     0\r  6  254k    6 16384    0     0   5481      0  0:00:47  0:00:02  0:00:45  5479\r100  254k  100  254k    0     0  67466      0  0:00:03  0:00:03 --:--:-- 67466\n"
          ],
          "name": "stderr"
        }
      ]
    },
    {
      "cell_type": "markdown",
      "metadata": {
        "colab_type": "text",
        "id": "Q-Zuu7R9s8qt"
      },
      "source": [
        "## Dataset Loading\n",
        "\n",
        "After downloading the corpus we need to process the data and set our train/test/validation datasets to work with."
      ]
    },
    {
      "cell_type": "code",
      "metadata": {
        "colab_type": "code",
        "id": "dBYNwegxjTWi",
        "colab": {}
      },
      "source": [
        "import pandas as pd\n",
        "\n",
        "from sklearn.model_selection import train_test_split"
      ],
      "execution_count": 0,
      "outputs": []
    },
    {
      "cell_type": "markdown",
      "metadata": {
        "colab_type": "text",
        "id": "Swsckt_EtY9N"
      },
      "source": [
        "### Exploratory Data Analysis\n",
        "\n",
        "In this section of the notebook we do some basic EDA of the Corpus. For now limited to the view of the dataset and check the stances (and their count)."
      ]
    },
    {
      "cell_type": "code",
      "metadata": {
        "colab_type": "code",
        "id": "j8NSHX5GZX88",
        "outputId": "bd7ac690-f104-46b9-8a6c-a7539cf78118",
        "colab": {
          "base_uri": "https://localhost:8080/",
          "height": 206
        }
      },
      "source": [
        "train_dataset = pd.read_csv(\"./data/train.csv\")\n",
        "train_dataset.head()"
      ],
      "execution_count": 0,
      "outputs": [
        {
          "output_type": "execute_result",
          "data": {
            "text/html": [
              "<div>\n",
              "<style scoped>\n",
              "    .dataframe tbody tr th:only-of-type {\n",
              "        vertical-align: middle;\n",
              "    }\n",
              "\n",
              "    .dataframe tbody tr th {\n",
              "        vertical-align: top;\n",
              "    }\n",
              "\n",
              "    .dataframe thead th {\n",
              "        text-align: right;\n",
              "    }\n",
              "</style>\n",
              "<table border=\"1\" class=\"dataframe\">\n",
              "  <thead>\n",
              "    <tr style=\"text-align: right;\">\n",
              "      <th></th>\n",
              "      <th>Tweet</th>\n",
              "      <th>Target</th>\n",
              "      <th>Stance</th>\n",
              "      <th>Opinion Towards</th>\n",
              "      <th>Sentiment</th>\n",
              "    </tr>\n",
              "  </thead>\n",
              "  <tbody>\n",
              "    <tr>\n",
              "      <th>0</th>\n",
              "      <td>@tedcruz And, #HandOverTheServer she wiped cle...</td>\n",
              "      <td>Hillary Clinton</td>\n",
              "      <td>AGAINST</td>\n",
              "      <td>1.  The tweet explicitly expresses opinion abo...</td>\n",
              "      <td>neg</td>\n",
              "    </tr>\n",
              "    <tr>\n",
              "      <th>1</th>\n",
              "      <td>Hillary is our best choice if we truly want to...</td>\n",
              "      <td>Hillary Clinton</td>\n",
              "      <td>FAVOR</td>\n",
              "      <td>1.  The tweet explicitly expresses opinion abo...</td>\n",
              "      <td>pos</td>\n",
              "    </tr>\n",
              "    <tr>\n",
              "      <th>2</th>\n",
              "      <td>@TheView I think our country is ready for a fe...</td>\n",
              "      <td>Hillary Clinton</td>\n",
              "      <td>AGAINST</td>\n",
              "      <td>1.  The tweet explicitly expresses opinion abo...</td>\n",
              "      <td>neg</td>\n",
              "    </tr>\n",
              "    <tr>\n",
              "      <th>3</th>\n",
              "      <td>I just gave an unhealthy amount of my hard-ear...</td>\n",
              "      <td>Hillary Clinton</td>\n",
              "      <td>AGAINST</td>\n",
              "      <td>1.  The tweet explicitly expresses opinion abo...</td>\n",
              "      <td>neg</td>\n",
              "    </tr>\n",
              "    <tr>\n",
              "      <th>4</th>\n",
              "      <td>@PortiaABoulger Thank you for adding me to you...</td>\n",
              "      <td>Hillary Clinton</td>\n",
              "      <td>NONE</td>\n",
              "      <td>3.  The tweet is not explicitly expressing opi...</td>\n",
              "      <td>pos</td>\n",
              "    </tr>\n",
              "  </tbody>\n",
              "</table>\n",
              "</div>"
            ],
            "text/plain": [
              "                                               Tweet  ... Sentiment\n",
              "0  @tedcruz And, #HandOverTheServer she wiped cle...  ...       neg\n",
              "1  Hillary is our best choice if we truly want to...  ...       pos\n",
              "2  @TheView I think our country is ready for a fe...  ...       neg\n",
              "3  I just gave an unhealthy amount of my hard-ear...  ...       neg\n",
              "4  @PortiaABoulger Thank you for adding me to you...  ...       pos\n",
              "\n",
              "[5 rows x 5 columns]"
            ]
          },
          "metadata": {
            "tags": []
          },
          "execution_count": 3
        }
      ]
    },
    {
      "cell_type": "markdown",
      "metadata": {
        "colab_type": "text",
        "id": "w9ZOaxsRtp5p"
      },
      "source": [
        "Here we check the possible stances and the amount of instances for each class."
      ]
    },
    {
      "cell_type": "code",
      "metadata": {
        "colab_type": "code",
        "id": "vx6W_Hzjah4t",
        "outputId": "da275eed-c815-4610-fa23-e374becdb84b",
        "colab": {
          "base_uri": "https://localhost:8080/",
          "height": 520
        }
      },
      "source": [
        "stances = train_dataset.groupby([\"Target\", \"Stance\"]).size().reset_index()\n",
        "stances"
      ],
      "execution_count": 0,
      "outputs": [
        {
          "output_type": "execute_result",
          "data": {
            "text/html": [
              "<div>\n",
              "<style scoped>\n",
              "    .dataframe tbody tr th:only-of-type {\n",
              "        vertical-align: middle;\n",
              "    }\n",
              "\n",
              "    .dataframe tbody tr th {\n",
              "        vertical-align: top;\n",
              "    }\n",
              "\n",
              "    .dataframe thead th {\n",
              "        text-align: right;\n",
              "    }\n",
              "</style>\n",
              "<table border=\"1\" class=\"dataframe\">\n",
              "  <thead>\n",
              "    <tr style=\"text-align: right;\">\n",
              "      <th></th>\n",
              "      <th>Target</th>\n",
              "      <th>Stance</th>\n",
              "      <th>0</th>\n",
              "    </tr>\n",
              "  </thead>\n",
              "  <tbody>\n",
              "    <tr>\n",
              "      <th>0</th>\n",
              "      <td>Atheism</td>\n",
              "      <td>AGAINST</td>\n",
              "      <td>304</td>\n",
              "    </tr>\n",
              "    <tr>\n",
              "      <th>1</th>\n",
              "      <td>Atheism</td>\n",
              "      <td>FAVOR</td>\n",
              "      <td>92</td>\n",
              "    </tr>\n",
              "    <tr>\n",
              "      <th>2</th>\n",
              "      <td>Atheism</td>\n",
              "      <td>NONE</td>\n",
              "      <td>117</td>\n",
              "    </tr>\n",
              "    <tr>\n",
              "      <th>3</th>\n",
              "      <td>Climate Change is a Real Concern</td>\n",
              "      <td>AGAINST</td>\n",
              "      <td>15</td>\n",
              "    </tr>\n",
              "    <tr>\n",
              "      <th>4</th>\n",
              "      <td>Climate Change is a Real Concern</td>\n",
              "      <td>FAVOR</td>\n",
              "      <td>212</td>\n",
              "    </tr>\n",
              "    <tr>\n",
              "      <th>5</th>\n",
              "      <td>Climate Change is a Real Concern</td>\n",
              "      <td>NONE</td>\n",
              "      <td>168</td>\n",
              "    </tr>\n",
              "    <tr>\n",
              "      <th>6</th>\n",
              "      <td>Feminist Movement</td>\n",
              "      <td>AGAINST</td>\n",
              "      <td>328</td>\n",
              "    </tr>\n",
              "    <tr>\n",
              "      <th>7</th>\n",
              "      <td>Feminist Movement</td>\n",
              "      <td>FAVOR</td>\n",
              "      <td>210</td>\n",
              "    </tr>\n",
              "    <tr>\n",
              "      <th>8</th>\n",
              "      <td>Feminist Movement</td>\n",
              "      <td>NONE</td>\n",
              "      <td>126</td>\n",
              "    </tr>\n",
              "    <tr>\n",
              "      <th>9</th>\n",
              "      <td>Hillary Clinton</td>\n",
              "      <td>AGAINST</td>\n",
              "      <td>393</td>\n",
              "    </tr>\n",
              "    <tr>\n",
              "      <th>10</th>\n",
              "      <td>Hillary Clinton</td>\n",
              "      <td>FAVOR</td>\n",
              "      <td>118</td>\n",
              "    </tr>\n",
              "    <tr>\n",
              "      <th>11</th>\n",
              "      <td>Hillary Clinton</td>\n",
              "      <td>NONE</td>\n",
              "      <td>178</td>\n",
              "    </tr>\n",
              "    <tr>\n",
              "      <th>12</th>\n",
              "      <td>Legalization of Abortion</td>\n",
              "      <td>AGAINST</td>\n",
              "      <td>355</td>\n",
              "    </tr>\n",
              "    <tr>\n",
              "      <th>13</th>\n",
              "      <td>Legalization of Abortion</td>\n",
              "      <td>FAVOR</td>\n",
              "      <td>121</td>\n",
              "    </tr>\n",
              "    <tr>\n",
              "      <th>14</th>\n",
              "      <td>Legalization of Abortion</td>\n",
              "      <td>NONE</td>\n",
              "      <td>177</td>\n",
              "    </tr>\n",
              "  </tbody>\n",
              "</table>\n",
              "</div>"
            ],
            "text/plain": [
              "                              Target   Stance    0\n",
              "0                            Atheism  AGAINST  304\n",
              "1                            Atheism    FAVOR   92\n",
              "2                            Atheism     NONE  117\n",
              "3   Climate Change is a Real Concern  AGAINST   15\n",
              "4   Climate Change is a Real Concern    FAVOR  212\n",
              "5   Climate Change is a Real Concern     NONE  168\n",
              "6                  Feminist Movement  AGAINST  328\n",
              "7                  Feminist Movement    FAVOR  210\n",
              "8                  Feminist Movement     NONE  126\n",
              "9                    Hillary Clinton  AGAINST  393\n",
              "10                   Hillary Clinton    FAVOR  118\n",
              "11                   Hillary Clinton     NONE  178\n",
              "12          Legalization of Abortion  AGAINST  355\n",
              "13          Legalization of Abortion    FAVOR  121\n",
              "14          Legalization of Abortion     NONE  177"
            ]
          },
          "metadata": {
            "tags": []
          },
          "execution_count": 4
        }
      ]
    },
    {
      "cell_type": "markdown",
      "metadata": {
        "colab_type": "text",
        "id": "15IIaOOwt-Bj"
      },
      "source": [
        "(this needs further analysis, I'll leave it for later, for now let's work on extracting the graphs)\n",
        "\n"
      ]
    },
    {
      "cell_type": "markdown",
      "metadata": {
        "id": "_9XvwIGvFnW_",
        "colab_type": "text"
      },
      "source": [
        "## Train/Validation/Test\n",
        "\n",
        "We will be using a validation subset of the train dataset in order to do our hyperparameter optimization. For that we need to define it clearly.\n",
        "\n",
        "Before anything, we need to set our target, in order to only use that for our base experiments."
      ]
    },
    {
      "cell_type": "code",
      "metadata": {
        "id": "MRasukHWGBtJ",
        "colab_type": "code",
        "colab": {}
      },
      "source": [
        "SELECTED_TARGET = \"Legalization of Abortion\"\n",
        "\n",
        "train_abortion_dataset = train_dataset[train_dataset[\"Target\"] == SELECTED_TARGET].reset_index(drop=True)"
      ],
      "execution_count": 0,
      "outputs": []
    },
    {
      "cell_type": "markdown",
      "metadata": {
        "id": "meh5bPb6GkIB",
        "colab_type": "text"
      },
      "source": [
        "Next select a random portion for validation."
      ]
    },
    {
      "cell_type": "code",
      "metadata": {
        "id": "axayA-qBGvJT",
        "colab_type": "code",
        "outputId": "6ea9483d-383e-47ad-de71-dae2345cab0b",
        "colab": {
          "base_uri": "https://localhost:8080/",
          "height": 206
        }
      },
      "source": [
        "train_abortion_indices, validation_abortion_indices = train_test_split(\n",
        "    train_abortion_dataset.index, \n",
        "    test_size=0.2, \n",
        "    random_state=42 # Seeding with the answer to the Ultimate Question of Life, the Universe, and Everything :p\n",
        ")\n",
        "\n",
        "train_abortion_dataset.loc[train_abortion_indices, \"Split\"] = \"Train\"\n",
        "train_abortion_dataset.loc[validation_abortion_indices, \"Split\"] = \"Validation\"\n",
        "train_abortion_dataset.head()"
      ],
      "execution_count": 0,
      "outputs": [
        {
          "output_type": "execute_result",
          "data": {
            "text/html": [
              "<div>\n",
              "<style scoped>\n",
              "    .dataframe tbody tr th:only-of-type {\n",
              "        vertical-align: middle;\n",
              "    }\n",
              "\n",
              "    .dataframe tbody tr th {\n",
              "        vertical-align: top;\n",
              "    }\n",
              "\n",
              "    .dataframe thead th {\n",
              "        text-align: right;\n",
              "    }\n",
              "</style>\n",
              "<table border=\"1\" class=\"dataframe\">\n",
              "  <thead>\n",
              "    <tr style=\"text-align: right;\">\n",
              "      <th></th>\n",
              "      <th>Tweet</th>\n",
              "      <th>Target</th>\n",
              "      <th>Stance</th>\n",
              "      <th>Opinion Towards</th>\n",
              "      <th>Sentiment</th>\n",
              "      <th>Split</th>\n",
              "    </tr>\n",
              "  </thead>\n",
              "  <tbody>\n",
              "    <tr>\n",
              "      <th>0</th>\n",
              "      <td>Just laid down the law on abortion in my bioet...</td>\n",
              "      <td>Legalization of Abortion</td>\n",
              "      <td>AGAINST</td>\n",
              "      <td>1.  The tweet explicitly expresses opinion abo...</td>\n",
              "      <td>neg</td>\n",
              "      <td>Train</td>\n",
              "    </tr>\n",
              "    <tr>\n",
              "      <th>1</th>\n",
              "      <td>@tooprettyclub Are you OK with #GOP males tell...</td>\n",
              "      <td>Legalization of Abortion</td>\n",
              "      <td>FAVOR</td>\n",
              "      <td>1.  The tweet explicitly expresses opinion abo...</td>\n",
              "      <td>neg</td>\n",
              "      <td>Train</td>\n",
              "    </tr>\n",
              "    <tr>\n",
              "      <th>2</th>\n",
              "      <td>If you don't want your kid, put it up for adop...</td>\n",
              "      <td>Legalization of Abortion</td>\n",
              "      <td>AGAINST</td>\n",
              "      <td>1.  The tweet explicitly expresses opinion abo...</td>\n",
              "      <td>neg</td>\n",
              "      <td>Validation</td>\n",
              "    </tr>\n",
              "    <tr>\n",
              "      <th>3</th>\n",
              "      <td>@RedAlert -there should be a \"stigma\" to butch...</td>\n",
              "      <td>Legalization of Abortion</td>\n",
              "      <td>AGAINST</td>\n",
              "      <td>1.  The tweet explicitly expresses opinion abo...</td>\n",
              "      <td>neg</td>\n",
              "      <td>Train</td>\n",
              "    </tr>\n",
              "    <tr>\n",
              "      <th>4</th>\n",
              "      <td>But isn't that the problem then. Not enough fa...</td>\n",
              "      <td>Legalization of Abortion</td>\n",
              "      <td>NONE</td>\n",
              "      <td>2. The tweet does NOT expresses opinion about ...</td>\n",
              "      <td>neg</td>\n",
              "      <td>Train</td>\n",
              "    </tr>\n",
              "  </tbody>\n",
              "</table>\n",
              "</div>"
            ],
            "text/plain": [
              "                                               Tweet  ...       Split\n",
              "0  Just laid down the law on abortion in my bioet...  ...       Train\n",
              "1  @tooprettyclub Are you OK with #GOP males tell...  ...       Train\n",
              "2  If you don't want your kid, put it up for adop...  ...  Validation\n",
              "3  @RedAlert -there should be a \"stigma\" to butch...  ...       Train\n",
              "4  But isn't that the problem then. Not enough fa...  ...       Train\n",
              "\n",
              "[5 rows x 6 columns]"
            ]
          },
          "metadata": {
            "tags": []
          },
          "execution_count": 6
        }
      ]
    },
    {
      "cell_type": "markdown",
      "metadata": {
        "id": "2Ec53PmnNA5O",
        "colab_type": "text"
      },
      "source": [
        "With the Validation data set. We need the test dataset for the whole graph construction.\n",
        "\n",
        "We collect everything into one dataset."
      ]
    },
    {
      "cell_type": "code",
      "metadata": {
        "id": "KvFuqqBuGifL",
        "colab_type": "code",
        "outputId": "04637b87-7a02-444d-b644-0aad048948cc",
        "colab": {
          "base_uri": "https://localhost:8080/",
          "height": 415
        }
      },
      "source": [
        "test_dataset = pd.read_csv(\"./data/test.csv\")\n",
        "test_abortion_dataset = test_dataset[test_dataset[\"Target\"] == SELECTED_TARGET]\n",
        "\n",
        "test_abortion_dataset.loc[:, \"Split\"] = \"Test\"\n",
        "\n",
        "dataset = pd.concat([train_abortion_dataset.sort_values(\"Split\"), test_abortion_dataset], ignore_index=True)\n",
        "dataset = dataset[[\"Tweet\", \"Stance\", \"Split\"]]  # We only need these columns\n",
        "dataset.head()"
      ],
      "execution_count": 0,
      "outputs": [
        {
          "output_type": "stream",
          "text": [
            "/usr/local/lib/python3.6/dist-packages/pandas/core/indexing.py:376: SettingWithCopyWarning: \n",
            "A value is trying to be set on a copy of a slice from a DataFrame.\n",
            "Try using .loc[row_indexer,col_indexer] = value instead\n",
            "\n",
            "See the caveats in the documentation: http://pandas.pydata.org/pandas-docs/stable/user_guide/indexing.html#returning-a-view-versus-a-copy\n",
            "  self.obj[key] = _infer_fill_value(value)\n",
            "/usr/local/lib/python3.6/dist-packages/pandas/core/indexing.py:494: SettingWithCopyWarning: \n",
            "A value is trying to be set on a copy of a slice from a DataFrame.\n",
            "Try using .loc[row_indexer,col_indexer] = value instead\n",
            "\n",
            "See the caveats in the documentation: http://pandas.pydata.org/pandas-docs/stable/user_guide/indexing.html#returning-a-view-versus-a-copy\n",
            "  self.obj[item] = s\n"
          ],
          "name": "stderr"
        },
        {
          "output_type": "execute_result",
          "data": {
            "text/html": [
              "<div>\n",
              "<style scoped>\n",
              "    .dataframe tbody tr th:only-of-type {\n",
              "        vertical-align: middle;\n",
              "    }\n",
              "\n",
              "    .dataframe tbody tr th {\n",
              "        vertical-align: top;\n",
              "    }\n",
              "\n",
              "    .dataframe thead th {\n",
              "        text-align: right;\n",
              "    }\n",
              "</style>\n",
              "<table border=\"1\" class=\"dataframe\">\n",
              "  <thead>\n",
              "    <tr style=\"text-align: right;\">\n",
              "      <th></th>\n",
              "      <th>Tweet</th>\n",
              "      <th>Stance</th>\n",
              "      <th>Split</th>\n",
              "    </tr>\n",
              "  </thead>\n",
              "  <tbody>\n",
              "    <tr>\n",
              "      <th>0</th>\n",
              "      <td>Just laid down the law on abortion in my bioet...</td>\n",
              "      <td>AGAINST</td>\n",
              "      <td>Train</td>\n",
              "    </tr>\n",
              "    <tr>\n",
              "      <th>1</th>\n",
              "      <td>Bad 2 days for #Kansas Conservatives #ksleg @g...</td>\n",
              "      <td>NONE</td>\n",
              "      <td>Train</td>\n",
              "    </tr>\n",
              "    <tr>\n",
              "      <th>2</th>\n",
              "      <td>Now that there's marriage equality, can we sta...</td>\n",
              "      <td>AGAINST</td>\n",
              "      <td>Train</td>\n",
              "    </tr>\n",
              "    <tr>\n",
              "      <th>3</th>\n",
              "      <td>I'll always put all my focus and energy toward...</td>\n",
              "      <td>AGAINST</td>\n",
              "      <td>Train</td>\n",
              "    </tr>\n",
              "    <tr>\n",
              "      <th>4</th>\n",
              "      <td>@BarackObama celebrates \"equality\" while 3000 ...</td>\n",
              "      <td>AGAINST</td>\n",
              "      <td>Train</td>\n",
              "    </tr>\n",
              "  </tbody>\n",
              "</table>\n",
              "</div>"
            ],
            "text/plain": [
              "                                               Tweet   Stance  Split\n",
              "0  Just laid down the law on abortion in my bioet...  AGAINST  Train\n",
              "1  Bad 2 days for #Kansas Conservatives #ksleg @g...     NONE  Train\n",
              "2  Now that there's marriage equality, can we sta...  AGAINST  Train\n",
              "3  I'll always put all my focus and energy toward...  AGAINST  Train\n",
              "4  @BarackObama celebrates \"equality\" while 3000 ...  AGAINST  Train"
            ]
          },
          "metadata": {
            "tags": []
          },
          "execution_count": 7
        }
      ]
    },
    {
      "cell_type": "markdown",
      "metadata": {
        "id": "WK6pZQk1LFwQ",
        "colab_type": "text"
      },
      "source": [
        "Just to check our division, let's see the distribution of the classes."
      ]
    },
    {
      "cell_type": "code",
      "metadata": {
        "id": "uqG_CGriLFZn",
        "colab_type": "code",
        "outputId": "c54cabfe-ae47-48e1-f7f0-b68a249440df",
        "colab": {
          "base_uri": "https://localhost:8080/",
          "height": 332
        }
      },
      "source": [
        "dataset.groupby([\"Split\", \"Stance\"]).size().reset_index()"
      ],
      "execution_count": 0,
      "outputs": [
        {
          "output_type": "execute_result",
          "data": {
            "text/html": [
              "<div>\n",
              "<style scoped>\n",
              "    .dataframe tbody tr th:only-of-type {\n",
              "        vertical-align: middle;\n",
              "    }\n",
              "\n",
              "    .dataframe tbody tr th {\n",
              "        vertical-align: top;\n",
              "    }\n",
              "\n",
              "    .dataframe thead th {\n",
              "        text-align: right;\n",
              "    }\n",
              "</style>\n",
              "<table border=\"1\" class=\"dataframe\">\n",
              "  <thead>\n",
              "    <tr style=\"text-align: right;\">\n",
              "      <th></th>\n",
              "      <th>Split</th>\n",
              "      <th>Stance</th>\n",
              "      <th>0</th>\n",
              "    </tr>\n",
              "  </thead>\n",
              "  <tbody>\n",
              "    <tr>\n",
              "      <th>0</th>\n",
              "      <td>Test</td>\n",
              "      <td>AGAINST</td>\n",
              "      <td>189</td>\n",
              "    </tr>\n",
              "    <tr>\n",
              "      <th>1</th>\n",
              "      <td>Test</td>\n",
              "      <td>FAVOR</td>\n",
              "      <td>46</td>\n",
              "    </tr>\n",
              "    <tr>\n",
              "      <th>2</th>\n",
              "      <td>Test</td>\n",
              "      <td>NONE</td>\n",
              "      <td>45</td>\n",
              "    </tr>\n",
              "    <tr>\n",
              "      <th>3</th>\n",
              "      <td>Train</td>\n",
              "      <td>AGAINST</td>\n",
              "      <td>278</td>\n",
              "    </tr>\n",
              "    <tr>\n",
              "      <th>4</th>\n",
              "      <td>Train</td>\n",
              "      <td>FAVOR</td>\n",
              "      <td>99</td>\n",
              "    </tr>\n",
              "    <tr>\n",
              "      <th>5</th>\n",
              "      <td>Train</td>\n",
              "      <td>NONE</td>\n",
              "      <td>145</td>\n",
              "    </tr>\n",
              "    <tr>\n",
              "      <th>6</th>\n",
              "      <td>Validation</td>\n",
              "      <td>AGAINST</td>\n",
              "      <td>77</td>\n",
              "    </tr>\n",
              "    <tr>\n",
              "      <th>7</th>\n",
              "      <td>Validation</td>\n",
              "      <td>FAVOR</td>\n",
              "      <td>22</td>\n",
              "    </tr>\n",
              "    <tr>\n",
              "      <th>8</th>\n",
              "      <td>Validation</td>\n",
              "      <td>NONE</td>\n",
              "      <td>32</td>\n",
              "    </tr>\n",
              "  </tbody>\n",
              "</table>\n",
              "</div>"
            ],
            "text/plain": [
              "        Split   Stance    0\n",
              "0        Test  AGAINST  189\n",
              "1        Test    FAVOR   46\n",
              "2        Test     NONE   45\n",
              "3       Train  AGAINST  278\n",
              "4       Train    FAVOR   99\n",
              "5       Train     NONE  145\n",
              "6  Validation  AGAINST   77\n",
              "7  Validation    FAVOR   22\n",
              "8  Validation     NONE   32"
            ]
          },
          "metadata": {
            "tags": []
          },
          "execution_count": 8
        }
      ]
    },
    {
      "cell_type": "markdown",
      "metadata": {
        "id": "Bg6PbFCZOsZw",
        "colab_type": "text"
      },
      "source": [
        "We can save this data and use that for the baselines."
      ]
    },
    {
      "cell_type": "code",
      "metadata": {
        "id": "Nn9Ueyy-OyLM",
        "colab_type": "code",
        "colab": {}
      },
      "source": [
        "for split in [\"Train\", \"Validation\", \"Test\"]:\n",
        "    dataset.loc[dataset[\"Split\"] == split, [\"Tweet\", \"Stance\"]].to_csv(\"./data/semeval.abortion.{}.csv\".format(split.lower()), index=False)"
      ],
      "execution_count": 0,
      "outputs": []
    },
    {
      "cell_type": "code",
      "metadata": {
        "id": "n53n8GKzPpHo",
        "colab_type": "code",
        "outputId": "49f98b3d-61af-4a65-8841-15d76b5f9a75",
        "colab": {
          "base_uri": "https://localhost:8080/",
          "height": 69
        }
      },
      "source": [
        "%%bash\n",
        "\n",
        "cd data/\n",
        "tar zcvf semeval.abortion.tgz semeval.*"
      ],
      "execution_count": 0,
      "outputs": [
        {
          "output_type": "stream",
          "text": [
            "semeval.abortion.test.csv\n",
            "semeval.abortion.train.csv\n",
            "semeval.abortion.validation.csv\n"
          ],
          "name": "stdout"
        }
      ]
    },
    {
      "cell_type": "markdown",
      "metadata": {
        "id": "JWTKAtNtQF0B",
        "colab_type": "text"
      },
      "source": [
        "### Resource\n",
        "\n",
        "The dataset is now available at: https://cs.famaf.unc.edu.ar/~ccardellino/resources/semeval/semeval.abortion.tgz"
      ]
    }
  ]
}